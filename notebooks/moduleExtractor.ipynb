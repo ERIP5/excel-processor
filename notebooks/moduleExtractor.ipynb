{
 "cells": [
  {
   "attachments": {},
   "cell_type": "markdown",
   "metadata": {},
   "source": [
    "Guides :\n",
    "\n",
    "- https://openpyxl.readthedocs.io/en/stable/\n",
    "- https://automatetheboringstuff.com/chapter12/"
   ]
  },
  {
   "attachments": {},
   "cell_type": "markdown",
   "metadata": {},
   "source": [
    "# Import des librairies"
   ]
  },
  {
   "cell_type": "code",
   "execution_count": null,
   "metadata": {},
   "outputs": [],
   "source": [
    "from pathlib import Path\n",
    "\n",
    "import openpyxl\n",
    "import pandas as pd"
   ]
  },
  {
   "attachments": {},
   "cell_type": "markdown",
   "metadata": {},
   "source": [
    "# Variables globales"
   ]
  },
  {
   "cell_type": "code",
   "execution_count": null,
   "metadata": {},
   "outputs": [],
   "source": [
    "data = Path(\"../data\")  # Chemin vers le dossier data\n"
   ]
  },
  {
   "attachments": {},
   "cell_type": "markdown",
   "metadata": {},
   "source": [
    "# Exploration du fichier excel des modules"
   ]
  },
  {
   "attachments": {},
   "cell_type": "markdown",
   "metadata": {},
   "source": [
    "## Variables globales"
   ]
  },
  {
   "cell_type": "code",
   "execution_count": null,
   "metadata": {},
   "outputs": [],
   "source": [
    "colonnes = [\n",
    "    'Identifiant',\n",
    "    'Abréviation',\n",
    "    'Code PPN',\n",
    "    'Nom complet',\n",
    "    'Promotion',\n",
    "    'Période',\n",
    "    'Responsable'\n",
    "]"
   ]
  },
  {
   "cell_type": "code",
   "execution_count": null,
   "metadata": {},
   "outputs": [],
   "source": [
    "module_wb = openpyxl.load_workbook(\n",
    "    data / \"liste_modules.xlsx\"\n",
    ")  # Objet python représentant le fichier excel\n",
    "print(\n",
    "    module_wb.sheetnames\n",
    ")  # On récupère le nom des feuilles du fichier excel, ici il n'y en a qu'une seule\n",
    "module_sheet = module_wb[\n",
    "    module_wb.sheetnames[0]\n",
    "]  # Objet python représentant la première feuille du fichier excel\n"
   ]
  },
  {
   "attachments": {},
   "cell_type": "markdown",
   "metadata": {},
   "source": [
    "# Obtention des indices de début pour chaque filière"
   ]
  },
  {
   "cell_type": "code",
   "execution_count": null,
   "metadata": {},
   "outputs": [],
   "source": [
    "currentPathway = module_sheet[f'C{1}'].value\n",
    "\n",
    "pathways = {currentPathway:[1]}\n",
    "\n",
    "for i in range(1, module_sheet.max_row+1):\n",
    "    if module_sheet[f'C{i}'].value != currentPathway:\n",
    "        pathways[currentPathway].append(i-1)\n",
    "        currentPathway = module_sheet[f'C{i}'].value\n",
    "        pathways[currentPathway] = [i]\n",
    "\n",
    "pathways[currentPathway].append(module_sheet.max_row)\n",
    "\n",
    "print(pathways)"
   ]
  },
  {
   "attachments": {},
   "cell_type": "markdown",
   "metadata": {},
   "source": [
    "# Obtention des modules d'informatique"
   ]
  },
  {
   "cell_type": "code",
   "execution_count": null,
   "metadata": {},
   "outputs": [],
   "source": [
    "selectedPathway = 'INFO'\n",
    "\n",
    "firstRowCS = pathways[selectedPathway][0]\n",
    "lastColumnCoordinates = f'{openpyxl.utils.cell.get_column_letter(module_sheet.max_column)}{firstRowCS}'\n",
    "firstLine = module_sheet[f'A{firstRowCS}':lastColumnCoordinates]\n",
    "for rowOfCellObjects in firstLine:\n",
    "    i = 0\n",
    "    for cellObj in rowOfCellObjects:\n",
    "        print(i, cellObj.coordinate, cellObj.value)\n",
    "        i += 1"
   ]
  },
  {
   "attachments": {},
   "cell_type": "markdown",
   "metadata": {},
   "source": [
    "## Mise en place de la structure de donnée interne"
   ]
  },
  {
   "cell_type": "code",
   "execution_count": null,
   "metadata": {},
   "outputs": [],
   "source": [
    "demonstration_df = pd.DataFrame(columns=colonnes)\n",
    "demonstration_df.head()"
   ]
  },
  {
   "attachments": {},
   "cell_type": "markdown",
   "metadata": {},
   "source": [
    "### Informations directement disponibles"
   ]
  },
  {
   "cell_type": "code",
   "execution_count": null,
   "metadata": {},
   "outputs": [],
   "source": [
    "# Depuis les données brutes on peut remplir les 2 premières colonnes\n",
    "rawData = {\n",
    "    'Identifiant': firstLine[0][0].value,\n",
    "    'Abréviation' : firstLine[0][1].value\n",
    "}\n",
    "\n",
    "currentEntry = pd.DataFrame(rawData, index=[0]) # On créé un dataframe contenant les données bruts\n",
    "\n",
    "demonstration_df = pd.concat([demonstration_df, currentEntry]).reset_index(drop=True) # On l'ajoute au dataframe principal\n",
    "\n",
    "demonstration_df"
   ]
  },
  {
   "cell_type": "code",
   "execution_count": null,
   "metadata": {},
   "outputs": [],
   "source": [
    "# Dans notre cas des informations sont redondantes\n",
    "\n",
    "demonstration_df['Code PPN'] = demonstration_df['Identifiant']\n",
    "demonstration_df['Nom complet'] = demonstration_df['Abréviation']\n",
    "\n",
    "demonstration_df"
   ]
  },
  {
   "attachments": {},
   "cell_type": "markdown",
   "metadata": {},
   "source": [
    "### Informations à déduire"
   ]
  },
  {
   "cell_type": "code",
   "execution_count": null,
   "metadata": {},
   "outputs": [],
   "source": [
    "description = firstLine[0][11].value\n",
    "\n",
    "print(description)\n",
    "\n",
    "descriptionSegmented = description.replace('/', ',').split(',')\n",
    "\n",
    "print(descriptionSegmented)\n",
    "\n",
    "# Removing\n",
    "indexToRemove = []\n",
    "\n",
    "for i in range(len(descriptionSegmented)):\n",
    "    processedString = descriptionSegmented[i].strip()\n",
    "\n",
    "    if processedString == '':\n",
    "        indexToRemove.append(i)\n",
    "    else:\n",
    "        descriptionSegmented[i] = processedString\n",
    "\n",
    "for index in reversed(indexToRemove):\n",
    "    descriptionSegmented.pop(index)\n",
    "\n",
    "print(descriptionSegmented)"
   ]
  },
  {
   "cell_type": "code",
   "execution_count": null,
   "metadata": {},
   "outputs": [],
   "source": [
    "semesterSegment = descriptionSegmented[1]\n",
    "print(semesterSegment.strip('Semestre').strip())\n",
    "semesterNumber = semesterSegment.strip('Semestre').strip()[1]\n",
    "\n",
    "currentEntry['Période'] = f'S{semesterNumber}'\n",
    "\n",
    "year = int(semesterNumber)%2 # 2 semestres par année\n",
    "\n",
    "yearGroup = f'{selectedPathway}{year}'\n",
    "print(yearGroup)\n",
    "\n",
    "currentEntry['Promotion'] = yearGroup\n",
    "\n",
    "demonstration_df = pd.concat([demonstration_df, currentEntry]).reset_index(drop=True) # On l'ajoute au dataframe principal\n",
    "\n",
    "demonstration_df"
   ]
  },
  {
   "attachments": {},
   "cell_type": "markdown",
   "metadata": {},
   "source": [
    "Pour le responsable on s'attend à son identifiant, il faut implémenter une fonction permettant de récupérer son identifiant; on ne peut pas juste prendre ses initiales (cas où 2 individus ont les mêmes initiales)"
   ]
  },
  {
   "cell_type": "code",
   "execution_count": null,
   "metadata": {},
   "outputs": [],
   "source": [
    "identity = firstLine[0][4].value\n",
    "print(identity)\n",
    "\n",
    "#TODO: recherche d'identifiant\n",
    "\n",
    "initials = ''.join([string[0].upper() for string in identity.split(' ')])\n",
    "\n",
    "print(initials)"
   ]
  },
  {
   "attachments": {},
   "cell_type": "markdown",
   "metadata": {},
   "source": [
    "## Regroupement des procédures d'extraction d'informations"
   ]
  },
  {
   "cell_type": "code",
   "execution_count": null,
   "metadata": {},
   "outputs": [],
   "source": [
    "def extractModuleInformation(moduleExcelLine: tuple):\n",
    "    # Return a single row DataFrame containing information regarding a specific module\n",
    "\n",
    "    moduleLine = moduleExcelLine[0]\n",
    "    moduleDataFrame = pd.DataFrame(columns=colonnes)\n",
    "\n",
    "    # Identfiant, Abréviation, Code PPN, Nom complet\n",
    "\n",
    "    rawData = {\n",
    "        'Identifiant': moduleLine[0].value,\n",
    "        'Abréviation' : moduleLine[1].value\n",
    "    }\n",
    "\n",
    "    rawDataFrame = pd.DataFrame(rawData, index=[0]) # On créé un dataframe contenant les données bruts\n",
    "\n",
    "    moduleDataFrame = pd.concat([moduleDataFrame, rawDataFrame]).reset_index(drop=True) # On l'ajoute au dataframe principal\n",
    "\n",
    "    moduleDataFrame[\"Code PPN\"] = moduleDataFrame[\"Identifiant\"]\n",
    "    moduleDataFrame[\"Nom complet\"] = moduleDataFrame[\"Abréviation\"]\n",
    "\n",
    "    # Période et Promotion\n",
    "\n",
    "    description = moduleLine[11].value\n",
    "\n",
    "    #print(description)\n",
    "\n",
    "    descriptionSegmented = description.replace(\"/\", \",\").split(\",\")\n",
    "\n",
    "    #print(descriptionSegmented)\n",
    "\n",
    "    # Removing trailing spaces and empty strings\n",
    "    indexToRemove = []\n",
    "\n",
    "    for i in range(len(descriptionSegmented)):\n",
    "        processedString = descriptionSegmented[i].strip()\n",
    "\n",
    "        if processedString == \"\":\n",
    "            indexToRemove.append(i)\n",
    "        else:\n",
    "            descriptionSegmented[i] = processedString\n",
    "\n",
    "    for index in reversed(indexToRemove):\n",
    "        descriptionSegmented.pop(index)\n",
    "\n",
    "    semesterSegment = descriptionSegmented[1]\n",
    "    #print(semesterSegment.strip(\"Semestre\").strip())\n",
    "    semesterNumber = semesterSegment.strip(\"Semestre\").strip()[1]\n",
    "\n",
    "    moduleDataFrame[\"Période\"] = f\"S{semesterNumber}\"\n",
    "\n",
    "    year = int(semesterNumber) // 2 + 1  # 2 semestres par année\n",
    "\n",
    "    yearGroup = f\"{selectedPathway}{year}\"\n",
    "    #print(yearGroup)\n",
    "\n",
    "    moduleDataFrame[\"Promotion\"] = yearGroup\n",
    "\n",
    "    # Responsable\n",
    "\n",
    "    # TODO: avec le nom et prénom du responsable, il faut pouvoir obtenir son identifiant qui peut ne pas être ses initiales\n",
    "\n",
    "    tutorIdentity = moduleLine[4].value\n",
    "    tutorInitials = ''.join([string[0].upper() for string in tutorIdentity.split(' ')])\n",
    "    moduleDataFrame[\"Responsable\"] = tutorInitials\n",
    "\n",
    "    return moduleDataFrame\n"
   ]
  },
  {
   "cell_type": "code",
   "execution_count": null,
   "metadata": {},
   "outputs": [],
   "source": [
    "extractModuleInformation(firstLine).head()"
   ]
  },
  {
   "cell_type": "code",
   "execution_count": null,
   "metadata": {},
   "outputs": [],
   "source": [
    "def batchModuleInformation(excelSheet, rowRange):\n",
    "    modulesDF = pd.DataFrame(columns=colonnes)\n",
    "\n",
    "    lastColumnLetter = f'{openpyxl.utils.cell.get_column_letter(excelSheet.max_column)}'\n",
    "\n",
    "    for rowNumber in range(rowRange[0], rowRange[1]):\n",
    "        lastColumnCoordinates = f'{lastColumnLetter}{rowNumber}'\n",
    "        processedLine = excelSheet[f'A{rowNumber}':lastColumnCoordinates]\n",
    "        processedDataFrame = extractModuleInformation(processedLine)\n",
    "\n",
    "        modulesDF = pd.concat([modulesDF, processedDataFrame]).reset_index(drop=True) \n",
    "\n",
    "    return modulesDF\n",
    "\n",
    "batchModuleInformation(module_sheet, pathways['INFO']).tail()"
   ]
  },
  {
   "cell_type": "code",
   "execution_count": null,
   "metadata": {},
   "outputs": [],
   "source": [
    "def DataFramesToExcel(dataframes:[pd.DataFrame], sheetNames:[str], output:str or Path):\n",
    "    # Create an Excel file in which each sheet is associated with a dataframe in the list \"dataframes\" and its name is indicated in the list \"sheetNames\"\n",
    "\n",
    "    with pd.ExcelWriter(output) as writer:\n",
    "        for index in range(len(sheetNames)):\n",
    "            dataframes[index].to_excel(writer, sheet_name=sheetNames[index], index=False)\n",
    "\n",
    "moduleDataFrame = batchModuleInformation(module_sheet, pathways['INFO'])\n",
    "\n",
    "DataFramesToExcel([moduleDataFrame], ['Modules'], Path('../output/database_file.xlsx'))"
   ]
  }
 ],
 "metadata": {
  "kernelspec": {
   "display_name": "xls-proc",
   "language": "python",
   "name": "python3"
  },
  "language_info": {
   "codemirror_mode": {
    "name": "ipython",
    "version": 3
   },
   "file_extension": ".py",
   "mimetype": "text/x-python",
   "name": "python",
   "nbconvert_exporter": "python",
   "pygments_lexer": "ipython3",
   "version": "3.7.9"
  },
  "orig_nbformat": 4,
  "vscode": {
   "interpreter": {
    "hash": "49a1ff6039a540bef8ec98639e5b39d6a4bbe847c06211c76f1694a261d7f935"
   }
  }
 },
 "nbformat": 4,
 "nbformat_minor": 2
}
